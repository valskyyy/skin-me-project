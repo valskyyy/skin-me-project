{
 "cells": [
  {
   "cell_type": "code",
   "execution_count": 2,
   "metadata": {
    "id": "3u1SjlysLU-H"
   },
   "outputs": [
    {
     "name": "stdout",
     "output_type": "stream",
     "text": [
      "The tensorboard extension is already loaded. To reload it, use:\n",
      "  %reload_ext tensorboard\n"
     ]
    }
   ],
   "source": [
    "import tensorflow as tf \n",
    "import numpy as np\n",
    "import pandas as pd\n",
    "import datetime, os\n",
    "%load_ext tensorboard\n"
   ]
  },
  {
   "cell_type": "code",
   "execution_count": 24,
   "metadata": {
    "colab": {
     "base_uri": "https://localhost:8080/"
    },
    "executionInfo": {
     "elapsed": 3970,
     "status": "ok",
     "timestamp": 1636800476786,
     "user": {
      "displayName": "pa chanteau",
      "photoUrl": "https://lh3.googleusercontent.com/a-/AOh14Ghl4UEfHsBzG2_IjuxcHUbzFK4AEZ3MWoSdbtmo=s64",
      "userId": "17075501894786922282"
     },
     "user_tz": -60
    },
    "id": "Rgp60pBWP8T-",
    "outputId": "a7799fb1-848a-4452-bc31-4bfcb3433a1c"
   },
   "outputs": [],
   "source": [
    "# from google.colab import drive\n",
    "# drive.mount('/content/drive', force_remount=True)"
   ]
  },
  {
   "cell_type": "code",
   "execution_count": 3,
   "metadata": {
    "colab": {
     "base_uri": "https://localhost:8080/",
     "height": 206
    },
    "executionInfo": {
     "elapsed": 708,
     "status": "ok",
     "timestamp": 1636800545780,
     "user": {
      "displayName": "pa chanteau",
      "photoUrl": "https://lh3.googleusercontent.com/a-/AOh14Ghl4UEfHsBzG2_IjuxcHUbzFK4AEZ3MWoSdbtmo=s64",
      "userId": "17075501894786922282"
     },
     "user_tz": -60
    },
    "id": "rUwoLAS4Lq7u",
    "outputId": "70b6f65e-a532-4d8c-f98f-7b4a26633a60"
   },
   "outputs": [
    {
     "data": {
      "text/html": [
       "<div>\n",
       "<style scoped>\n",
       "    .dataframe tbody tr th:only-of-type {\n",
       "        vertical-align: middle;\n",
       "    }\n",
       "\n",
       "    .dataframe tbody tr th {\n",
       "        vertical-align: top;\n",
       "    }\n",
       "\n",
       "    .dataframe thead th {\n",
       "        text-align: right;\n",
       "    }\n",
       "</style>\n",
       "<table border=\"1\" class=\"dataframe\">\n",
       "  <thead>\n",
       "    <tr style=\"text-align: right;\">\n",
       "      <th></th>\n",
       "      <th>lesion_id</th>\n",
       "      <th>image_id</th>\n",
       "      <th>dx</th>\n",
       "      <th>dx_type</th>\n",
       "      <th>age</th>\n",
       "      <th>sex</th>\n",
       "      <th>localization</th>\n",
       "    </tr>\n",
       "  </thead>\n",
       "  <tbody>\n",
       "    <tr>\n",
       "      <th>0</th>\n",
       "      <td>HAM_0000118</td>\n",
       "      <td>ISIC_0027419</td>\n",
       "      <td>bkl</td>\n",
       "      <td>histo</td>\n",
       "      <td>80.0</td>\n",
       "      <td>male</td>\n",
       "      <td>scalp</td>\n",
       "    </tr>\n",
       "    <tr>\n",
       "      <th>1</th>\n",
       "      <td>HAM_0000118</td>\n",
       "      <td>ISIC_0025030</td>\n",
       "      <td>bkl</td>\n",
       "      <td>histo</td>\n",
       "      <td>80.0</td>\n",
       "      <td>male</td>\n",
       "      <td>scalp</td>\n",
       "    </tr>\n",
       "    <tr>\n",
       "      <th>2</th>\n",
       "      <td>HAM_0002730</td>\n",
       "      <td>ISIC_0026769</td>\n",
       "      <td>bkl</td>\n",
       "      <td>histo</td>\n",
       "      <td>80.0</td>\n",
       "      <td>male</td>\n",
       "      <td>scalp</td>\n",
       "    </tr>\n",
       "    <tr>\n",
       "      <th>3</th>\n",
       "      <td>HAM_0002730</td>\n",
       "      <td>ISIC_0025661</td>\n",
       "      <td>bkl</td>\n",
       "      <td>histo</td>\n",
       "      <td>80.0</td>\n",
       "      <td>male</td>\n",
       "      <td>scalp</td>\n",
       "    </tr>\n",
       "    <tr>\n",
       "      <th>4</th>\n",
       "      <td>HAM_0001466</td>\n",
       "      <td>ISIC_0031633</td>\n",
       "      <td>bkl</td>\n",
       "      <td>histo</td>\n",
       "      <td>75.0</td>\n",
       "      <td>male</td>\n",
       "      <td>ear</td>\n",
       "    </tr>\n",
       "  </tbody>\n",
       "</table>\n",
       "</div>"
      ],
      "text/plain": [
       "     lesion_id      image_id   dx dx_type   age   sex localization\n",
       "0  HAM_0000118  ISIC_0027419  bkl   histo  80.0  male        scalp\n",
       "1  HAM_0000118  ISIC_0025030  bkl   histo  80.0  male        scalp\n",
       "2  HAM_0002730  ISIC_0026769  bkl   histo  80.0  male        scalp\n",
       "3  HAM_0002730  ISIC_0025661  bkl   histo  80.0  male        scalp\n",
       "4  HAM_0001466  ISIC_0031633  bkl   histo  75.0  male          ear"
      ]
     },
     "execution_count": 3,
     "metadata": {},
     "output_type": "execute_result"
    }
   ],
   "source": [
    "data = pd.read_csv(\"/Users/xxx/Documents/Jedha/final_project/Data/HAM10000_metadata.csv\")\n",
    "data.head()"
   ]
  },
  {
   "cell_type": "code",
   "execution_count": 4,
   "metadata": {
    "colab": {
     "base_uri": "https://localhost:8080/"
    },
    "executionInfo": {
     "elapsed": 558,
     "status": "ok",
     "timestamp": 1636800550193,
     "user": {
      "displayName": "pa chanteau",
      "photoUrl": "https://lh3.googleusercontent.com/a-/AOh14Ghl4UEfHsBzG2_IjuxcHUbzFK4AEZ3MWoSdbtmo=s64",
      "userId": "17075501894786922282"
     },
     "user_tz": -60
    },
    "id": "CoLGhPfkO4No",
    "outputId": "f4afaf7e-dc7f-4b5f-e9fa-881d1f01eec0"
   },
   "outputs": [
    {
     "data": {
      "text/plain": [
       "(10015, 7)"
      ]
     },
     "execution_count": 4,
     "metadata": {},
     "output_type": "execute_result"
    }
   ],
   "source": [
    "data.shape"
   ]
  },
  {
   "cell_type": "code",
   "execution_count": 5,
   "metadata": {
    "colab": {
     "base_uri": "https://localhost:8080/",
     "height": 206
    },
    "executionInfo": {
     "elapsed": 455,
     "status": "ok",
     "timestamp": 1636800551963,
     "user": {
      "displayName": "pa chanteau",
      "photoUrl": "https://lh3.googleusercontent.com/a-/AOh14Ghl4UEfHsBzG2_IjuxcHUbzFK4AEZ3MWoSdbtmo=s64",
      "userId": "17075501894786922282"
     },
     "user_tz": -60
    },
    "id": "nd_JO78BL8G8",
    "outputId": "f2da794e-21cf-4b7c-9469-69c2d65b7129",
    "scrolled": true
   },
   "outputs": [
    {
     "data": {
      "text/html": [
       "<div>\n",
       "<style scoped>\n",
       "    .dataframe tbody tr th:only-of-type {\n",
       "        vertical-align: middle;\n",
       "    }\n",
       "\n",
       "    .dataframe tbody tr th {\n",
       "        vertical-align: top;\n",
       "    }\n",
       "\n",
       "    .dataframe thead th {\n",
       "        text-align: right;\n",
       "    }\n",
       "</style>\n",
       "<table border=\"1\" class=\"dataframe\">\n",
       "  <thead>\n",
       "    <tr style=\"text-align: right;\">\n",
       "      <th></th>\n",
       "      <th>lesion_id</th>\n",
       "      <th>image_id</th>\n",
       "      <th>dx</th>\n",
       "      <th>dx_type</th>\n",
       "      <th>age</th>\n",
       "      <th>sex</th>\n",
       "      <th>localization</th>\n",
       "    </tr>\n",
       "  </thead>\n",
       "  <tbody>\n",
       "    <tr>\n",
       "      <th>0</th>\n",
       "      <td>HAM_0000118</td>\n",
       "      <td>ISIC_0027419.jpg</td>\n",
       "      <td>bkl</td>\n",
       "      <td>histo</td>\n",
       "      <td>80.0</td>\n",
       "      <td>male</td>\n",
       "      <td>scalp</td>\n",
       "    </tr>\n",
       "    <tr>\n",
       "      <th>1</th>\n",
       "      <td>HAM_0000118</td>\n",
       "      <td>ISIC_0025030.jpg</td>\n",
       "      <td>bkl</td>\n",
       "      <td>histo</td>\n",
       "      <td>80.0</td>\n",
       "      <td>male</td>\n",
       "      <td>scalp</td>\n",
       "    </tr>\n",
       "    <tr>\n",
       "      <th>2</th>\n",
       "      <td>HAM_0002730</td>\n",
       "      <td>ISIC_0026769.jpg</td>\n",
       "      <td>bkl</td>\n",
       "      <td>histo</td>\n",
       "      <td>80.0</td>\n",
       "      <td>male</td>\n",
       "      <td>scalp</td>\n",
       "    </tr>\n",
       "    <tr>\n",
       "      <th>3</th>\n",
       "      <td>HAM_0002730</td>\n",
       "      <td>ISIC_0025661.jpg</td>\n",
       "      <td>bkl</td>\n",
       "      <td>histo</td>\n",
       "      <td>80.0</td>\n",
       "      <td>male</td>\n",
       "      <td>scalp</td>\n",
       "    </tr>\n",
       "    <tr>\n",
       "      <th>4</th>\n",
       "      <td>HAM_0001466</td>\n",
       "      <td>ISIC_0031633.jpg</td>\n",
       "      <td>bkl</td>\n",
       "      <td>histo</td>\n",
       "      <td>75.0</td>\n",
       "      <td>male</td>\n",
       "      <td>ear</td>\n",
       "    </tr>\n",
       "  </tbody>\n",
       "</table>\n",
       "</div>"
      ],
      "text/plain": [
       "     lesion_id          image_id   dx dx_type   age   sex localization\n",
       "0  HAM_0000118  ISIC_0027419.jpg  bkl   histo  80.0  male        scalp\n",
       "1  HAM_0000118  ISIC_0025030.jpg  bkl   histo  80.0  male        scalp\n",
       "2  HAM_0002730  ISIC_0026769.jpg  bkl   histo  80.0  male        scalp\n",
       "3  HAM_0002730  ISIC_0025661.jpg  bkl   histo  80.0  male        scalp\n",
       "4  HAM_0001466  ISIC_0031633.jpg  bkl   histo  75.0  male          ear"
      ]
     },
     "execution_count": 5,
     "metadata": {},
     "output_type": "execute_result"
    }
   ],
   "source": [
    "data[\"image_id\"] = data[\"image_id\"].astype(\"str\") + \".jpg\"\n",
    "data.head()"
   ]
  },
  {
   "cell_type": "code",
   "execution_count": 6,
   "metadata": {
    "id": "ThCq4JEaM0LE"
   },
   "outputs": [],
   "source": [
    "#Rows suffle (because the values in the target column \"dx\" are grouped by value, it creates a bias)\n",
    "data = data.sample(frac=1,random_state=0).reset_index(drop=True)"
   ]
  },
  {
   "cell_type": "code",
   "execution_count": 7,
   "metadata": {
    "colab": {
     "base_uri": "https://localhost:8080/",
     "height": 206
    },
    "executionInfo": {
     "elapsed": 547,
     "status": "ok",
     "timestamp": 1636800556772,
     "user": {
      "displayName": "pa chanteau",
      "photoUrl": "https://lh3.googleusercontent.com/a-/AOh14Ghl4UEfHsBzG2_IjuxcHUbzFK4AEZ3MWoSdbtmo=s64",
      "userId": "17075501894786922282"
     },
     "user_tz": -60
    },
    "id": "6SjHF18xOA5O",
    "outputId": "c5790ee1-3bf4-40eb-ae36-12ff7e26feb6"
   },
   "outputs": [
    {
     "data": {
      "text/html": [
       "<div>\n",
       "<style scoped>\n",
       "    .dataframe tbody tr th:only-of-type {\n",
       "        vertical-align: middle;\n",
       "    }\n",
       "\n",
       "    .dataframe tbody tr th {\n",
       "        vertical-align: top;\n",
       "    }\n",
       "\n",
       "    .dataframe thead th {\n",
       "        text-align: right;\n",
       "    }\n",
       "</style>\n",
       "<table border=\"1\" class=\"dataframe\">\n",
       "  <thead>\n",
       "    <tr style=\"text-align: right;\">\n",
       "      <th></th>\n",
       "      <th>lesion_id</th>\n",
       "      <th>image_id</th>\n",
       "      <th>dx</th>\n",
       "      <th>dx_type</th>\n",
       "      <th>age</th>\n",
       "      <th>sex</th>\n",
       "      <th>localization</th>\n",
       "    </tr>\n",
       "  </thead>\n",
       "  <tbody>\n",
       "    <tr>\n",
       "      <th>0</th>\n",
       "      <td>HAM_0002695</td>\n",
       "      <td>ISIC_0028664.jpg</td>\n",
       "      <td>nv</td>\n",
       "      <td>follow_up</td>\n",
       "      <td>45.0</td>\n",
       "      <td>male</td>\n",
       "      <td>back</td>\n",
       "    </tr>\n",
       "    <tr>\n",
       "      <th>1</th>\n",
       "      <td>HAM_0000370</td>\n",
       "      <td>ISIC_0025998.jpg</td>\n",
       "      <td>nv</td>\n",
       "      <td>follow_up</td>\n",
       "      <td>70.0</td>\n",
       "      <td>male</td>\n",
       "      <td>trunk</td>\n",
       "    </tr>\n",
       "    <tr>\n",
       "      <th>2</th>\n",
       "      <td>HAM_0006372</td>\n",
       "      <td>ISIC_0032817.jpg</td>\n",
       "      <td>nv</td>\n",
       "      <td>histo</td>\n",
       "      <td>35.0</td>\n",
       "      <td>male</td>\n",
       "      <td>back</td>\n",
       "    </tr>\n",
       "    <tr>\n",
       "      <th>3</th>\n",
       "      <td>HAM_0006835</td>\n",
       "      <td>ISIC_0026577.jpg</td>\n",
       "      <td>nv</td>\n",
       "      <td>histo</td>\n",
       "      <td>75.0</td>\n",
       "      <td>male</td>\n",
       "      <td>chest</td>\n",
       "    </tr>\n",
       "    <tr>\n",
       "      <th>4</th>\n",
       "      <td>HAM_0005536</td>\n",
       "      <td>ISIC_0026798.jpg</td>\n",
       "      <td>bcc</td>\n",
       "      <td>histo</td>\n",
       "      <td>45.0</td>\n",
       "      <td>male</td>\n",
       "      <td>lower extremity</td>\n",
       "    </tr>\n",
       "  </tbody>\n",
       "</table>\n",
       "</div>"
      ],
      "text/plain": [
       "     lesion_id          image_id   dx    dx_type   age   sex     localization\n",
       "0  HAM_0002695  ISIC_0028664.jpg   nv  follow_up  45.0  male             back\n",
       "1  HAM_0000370  ISIC_0025998.jpg   nv  follow_up  70.0  male            trunk\n",
       "2  HAM_0006372  ISIC_0032817.jpg   nv      histo  35.0  male             back\n",
       "3  HAM_0006835  ISIC_0026577.jpg   nv      histo  75.0  male            chest\n",
       "4  HAM_0005536  ISIC_0026798.jpg  bcc      histo  45.0  male  lower extremity"
      ]
     },
     "execution_count": 7,
     "metadata": {},
     "output_type": "execute_result"
    }
   ],
   "source": [
    "data.head()"
   ]
  },
  {
   "cell_type": "code",
   "execution_count": 8,
   "metadata": {
    "colab": {
     "base_uri": "https://localhost:8080/"
    },
    "executionInfo": {
     "elapsed": 5,
     "status": "ok",
     "timestamp": 1636800559558,
     "user": {
      "displayName": "pa chanteau",
      "photoUrl": "https://lh3.googleusercontent.com/a-/AOh14Ghl4UEfHsBzG2_IjuxcHUbzFK4AEZ3MWoSdbtmo=s64",
      "userId": "17075501894786922282"
     },
     "user_tz": -60
    },
    "id": "06XEQ2akO8AG",
    "outputId": "dc76e11b-c3b5-4520-9bbd-23d55117ba5c"
   },
   "outputs": [
    {
     "data": {
      "text/plain": [
       "(10015, 7)"
      ]
     },
     "execution_count": 8,
     "metadata": {},
     "output_type": "execute_result"
    }
   ],
   "source": [
    "data.shape"
   ]
  },
  {
   "cell_type": "code",
   "execution_count": 9,
   "metadata": {
    "colab": {
     "base_uri": "https://localhost:8080/"
    },
    "executionInfo": {
     "elapsed": 279,
     "status": "ok",
     "timestamp": 1636800562363,
     "user": {
      "displayName": "pa chanteau",
      "photoUrl": "https://lh3.googleusercontent.com/a-/AOh14Ghl4UEfHsBzG2_IjuxcHUbzFK4AEZ3MWoSdbtmo=s64",
      "userId": "17075501894786922282"
     },
     "user_tz": -60
    },
    "id": "Lv6JaMtZO_z1",
    "outputId": "5a016a89-698a-41d0-eb7a-04bc662d196b"
   },
   "outputs": [
    {
     "name": "stdout",
     "output_type": "stream",
     "text": [
      "lesion_id       0.000000\n",
      "image_id        0.000000\n",
      "dx              0.000000\n",
      "dx_type         0.000000\n",
      "age             0.569146\n",
      "sex             0.000000\n",
      "localization    0.000000\n",
      "dtype: float64\n"
     ]
    }
   ],
   "source": [
    "#Check of missing values\n",
    "print(100*data.isna().sum()/data.shape[0])"
   ]
  },
  {
   "cell_type": "code",
   "execution_count": 10,
   "metadata": {
    "id": "hshjtc9KMJPC"
   },
   "outputs": [],
   "source": [
    "from tensorflow.keras.preprocessing.image import ImageDataGenerator\n",
    "img_generator = ImageDataGenerator(\n",
    "    rotation_range=180,\n",
    "    horizontal_flip=True,\n",
    "    vertical_flip=True, \n",
    "    rescale=1/255., \n",
    "    validation_split=0.3\n",
    "    )"
   ]
  },
  {
   "cell_type": "code",
   "execution_count": 11,
   "metadata": {
    "colab": {
     "base_uri": "https://localhost:8080/"
    },
    "executionInfo": {
     "elapsed": 7472,
     "status": "ok",
     "timestamp": 1636800590144,
     "user": {
      "displayName": "pa chanteau",
      "photoUrl": "https://lh3.googleusercontent.com/a-/AOh14Ghl4UEfHsBzG2_IjuxcHUbzFK4AEZ3MWoSdbtmo=s64",
      "userId": "17075501894786922282"
     },
     "user_tz": -60
    },
    "id": "2LztG_ktMV_z",
    "outputId": "75db98f2-4cdd-4a5b-ecb0-e269d8f0d8cd",
    "scrolled": true
   },
   "outputs": [
    {
     "name": "stdout",
     "output_type": "stream",
     "text": [
      "Found 7011 validated image filenames belonging to 7 classes.\n",
      "Found 3004 validated image filenames belonging to 7 classes.\n"
     ]
    }
   ],
   "source": [
    "train_generator = img_generator.flow_from_dataframe(\n",
    "    dataframe=data,\n",
    "    directory=\"/Users/xxx/Documents/Jedha/final_project/Data/HAM10000_images\",\n",
    "    x_col=\"image_id\", \n",
    "    y_col=\"dx\",\n",
    "    target_size=(128,128),\n",
    "    class_mode = \"sparse\", \n",
    "    batch_size=200, \n",
    "    shuffle = True,\n",
    "    seed=0,\n",
    "    subset = \"training\"\n",
    ")\n",
    "\n",
    "val_generator = img_generator.flow_from_dataframe(\n",
    "    dataframe=data,\n",
    "    directory=\"/Users/xxx/Documents/Jedha/final_project/Data/HAM10000_images\",\n",
    "    x_col=\"image_id\",\n",
    "    y_col=\"dx\",\n",
    "    target_size=(128,128),\n",
    "    class_mode = \"sparse\", \n",
    "    batch_size=200, \n",
    "    shuffle = True,\n",
    "    seed=0,\n",
    "    subset = \"validation\"\n",
    ")"
   ]
  },
  {
   "cell_type": "code",
   "execution_count": 12,
   "metadata": {
    "id": "CXGv9gE4RoO3",
    "scrolled": true
   },
   "outputs": [],
   "source": [
    "imgs, targets = next(iter(train_generator))"
   ]
  },
  {
   "cell_type": "code",
   "execution_count": 13,
   "metadata": {
    "colab": {
     "base_uri": "https://localhost:8080/"
    },
    "executionInfo": {
     "elapsed": 462,
     "status": "ok",
     "timestamp": 1636800716753,
     "user": {
      "displayName": "pa chanteau",
      "photoUrl": "https://lh3.googleusercontent.com/a-/AOh14Ghl4UEfHsBzG2_IjuxcHUbzFK4AEZ3MWoSdbtmo=s64",
      "userId": "17075501894786922282"
     },
     "user_tz": -60
    },
    "id": "WY_fla0GRtdw",
    "outputId": "a22b0b21-f0f8-4945-e104-d424d75422a2"
   },
   "outputs": [
    {
     "data": {
      "text/plain": [
       "(200, 128, 128, 3)"
      ]
     },
     "execution_count": 13,
     "metadata": {},
     "output_type": "execute_result"
    }
   ],
   "source": [
    "imgs.shape"
   ]
  },
  {
   "cell_type": "code",
   "execution_count": 14,
   "metadata": {
    "id": "JtZXZOqsNAQt"
   },
   "outputs": [
    {
     "name": "stdout",
     "output_type": "stream",
     "text": [
      "Metal device set to: Apple M1\n",
      "\n",
      "systemMemory: 8.00 GB\n",
      "maxCacheSize: 2.67 GB\n",
      "\n"
     ]
    },
    {
     "name": "stderr",
     "output_type": "stream",
     "text": [
      "2021-11-18 14:59:01.873708: I tensorflow/core/common_runtime/pluggable_device/pluggable_device_factory.cc:305] Could not identify NUMA node of platform GPU ID 0, defaulting to 0. Your kernel may not have been built with NUMA support.\n",
      "2021-11-18 14:59:01.874363: I tensorflow/core/common_runtime/pluggable_device/pluggable_device_factory.cc:271] Created TensorFlow device (/job:localhost/replica:0/task:0/device:GPU:0 with 0 MB memory) -> physical PluggableDevice (device: 0, name: METAL, pci bus id: <undefined>)\n"
     ]
    }
   ],
   "source": [
    "from tensorflow.keras.layers import Conv2D, MaxPool2D\n",
    "\n",
    "modelconv = tf.keras.Sequential(\n",
    "    [   \n",
    "        Conv2D(\n",
    "            filters = 32, \n",
    "            kernel_size = (3,3), \n",
    "            strides = 1, \n",
    "            padding = \"same\",\n",
    "            activation = \"relu\", \n",
    "            input_shape = (imgs.shape[1], imgs.shape[2], imgs.shape[3])\n",
    "        ), # the input shape (height, width, channels)\n",
    "     MaxPool2D(\n",
    "         pool_size=2, # the size of the pooling window\n",
    "         strides=2\n",
    "     ), # the movement of the pooling on the input\n",
    "     Conv2D(\n",
    "         filters = 64, \n",
    "         kernel_size = (3,3), \n",
    "         strides = 1, \n",
    "         padding = \"same\",\n",
    "         activation = \"relu\"\n",
    "     ),\n",
    "     MaxPool2D(2,2),\n",
    "     Conv2D(\n",
    "         filters = 128, \n",
    "         kernel_size = (3,3), \n",
    "         strides = 1, \n",
    "         padding = \"same\",\n",
    "         activation = \"relu\"\n",
    "     ),\n",
    "     MaxPool2D(2,2),\n",
    "     Conv2D(\n",
    "         filters = 256, \n",
    "         kernel_size = (3,3), \n",
    "         strides = 1, \n",
    "         padding = \"same\",\n",
    "         activation = \"relu\"\n",
    "     ),\n",
    "     MaxPool2D(2,2),\n",
    "     tf.keras.layers.Flatten(), # this layer turns multi-dimensional images into flat objects\n",
    "     tf.keras.layers.Dense(len(pd.unique(data['dx'])),\"softmax\")\n",
    "     \n",
    "    ]\n",
    ")"
   ]
  },
  {
   "cell_type": "code",
   "execution_count": 15,
   "metadata": {
    "id": "8SVYbr95NxBU"
   },
   "outputs": [],
   "source": [
    "from tensorflow.keras.losses import SparseCategoricalCrossentropy\n",
    "from tensorflow.keras.metrics import SparseCategoricalAccuracy\n",
    "from tensorflow.keras.optimizers import Adam\n",
    "\n",
    "modelconv.compile(optimizer=Adam(),\n",
    "              loss=SparseCategoricalCrossentropy(),\n",
    "              metrics=[SparseCategoricalAccuracy()])"
   ]
  },
  {
   "cell_type": "code",
   "execution_count": 17,
   "metadata": {
    "colab": {
     "base_uri": "https://localhost:8080/"
    },
    "executionInfo": {
     "elapsed": 5548058,
     "status": "ok",
     "timestamp": 1636806291949,
     "user": {
      "displayName": "pa chanteau",
      "photoUrl": "https://lh3.googleusercontent.com/a-/AOh14Ghl4UEfHsBzG2_IjuxcHUbzFK4AEZ3MWoSdbtmo=s64",
      "userId": "17075501894786922282"
     },
     "user_tz": -60
    },
    "id": "HaOypkbTN2Xf",
    "outputId": "c8262548-6cbf-4d60-9cb4-6b25f8052c1a"
   },
   "outputs": [
    {
     "name": "stderr",
     "output_type": "stream",
     "text": [
      "2021-11-18 14:59:44.583110: I tensorflow/compiler/mlir/mlir_graph_optimization_pass.cc:185] None of the MLIR Optimization Passes are enabled (registered 2)\n",
      "2021-11-18 14:59:44.584329: W tensorflow/core/platform/profile_utils/cpu_utils.cc:128] Failed to get CPU frequency: 0 Hz\n",
      "2021-11-18 14:59:44.731282: I tensorflow/core/grappler/optimizers/custom_graph_optimizer_registry.cc:112] Plugin optimizer for device_type GPU is enabled.\n"
     ]
    },
    {
     "name": "stdout",
     "output_type": "stream",
     "text": [
      "Epoch 1/10\n",
      "36/36 [==============================] - ETA: 0s - loss: 1.1393 - sparse_categorical_accuracy: 0.6689"
     ]
    },
    {
     "name": "stderr",
     "output_type": "stream",
     "text": [
      "2021-11-18 15:00:36.446468: I tensorflow/core/grappler/optimizers/custom_graph_optimizer_registry.cc:112] Plugin optimizer for device_type GPU is enabled.\n"
     ]
    },
    {
     "name": "stdout",
     "output_type": "stream",
     "text": [
      "36/36 [==============================] - 73s 2s/step - loss: 1.1393 - sparse_categorical_accuracy: 0.6689 - val_loss: 1.0623 - val_sparse_categorical_accuracy: 0.6698\n",
      "Epoch 2/10\n",
      "36/36 [==============================] - 70s 2s/step - loss: 1.0023 - sparse_categorical_accuracy: 0.6701 - val_loss: 0.9789 - val_sparse_categorical_accuracy: 0.6768\n",
      "Epoch 3/10\n",
      "36/36 [==============================] - 68s 2s/step - loss: 0.9349 - sparse_categorical_accuracy: 0.6695 - val_loss: 0.9510 - val_sparse_categorical_accuracy: 0.6887\n",
      "Epoch 4/10\n",
      "36/36 [==============================] - 68s 2s/step - loss: 0.9008 - sparse_categorical_accuracy: 0.6824 - val_loss: 0.8925 - val_sparse_categorical_accuracy: 0.6874\n",
      "Epoch 5/10\n",
      "36/36 [==============================] - 68s 2s/step - loss: 0.8849 - sparse_categorical_accuracy: 0.6868 - val_loss: 0.9087 - val_sparse_categorical_accuracy: 0.6947\n",
      "Epoch 6/10\n",
      "36/36 [==============================] - 70s 2s/step - loss: 0.8527 - sparse_categorical_accuracy: 0.6902 - val_loss: 0.8913 - val_sparse_categorical_accuracy: 0.6625\n",
      "Epoch 7/10\n",
      "36/36 [==============================] - 69s 2s/step - loss: 0.8128 - sparse_categorical_accuracy: 0.7039 - val_loss: 0.8374 - val_sparse_categorical_accuracy: 0.6964\n",
      "Epoch 8/10\n",
      "36/36 [==============================] - 69s 2s/step - loss: 0.8057 - sparse_categorical_accuracy: 0.7082 - val_loss: 0.8296 - val_sparse_categorical_accuracy: 0.7041\n",
      "Epoch 9/10\n",
      "36/36 [==============================] - 68s 2s/step - loss: 0.7824 - sparse_categorical_accuracy: 0.7083 - val_loss: 0.7685 - val_sparse_categorical_accuracy: 0.7224\n",
      "Epoch 10/10\n",
      "36/36 [==============================] - 68s 2s/step - loss: 0.7853 - sparse_categorical_accuracy: 0.7106 - val_loss: 0.7790 - val_sparse_categorical_accuracy: 0.7154\n"
     ]
    },
    {
     "data": {
      "text/plain": [
       "<keras.callbacks.History at 0x151c7c070>"
      ]
     },
     "execution_count": 17,
     "metadata": {},
     "output_type": "execute_result"
    }
   ],
   "source": [
    "modelconv.fit(train_generator, epochs = 10, validation_data=val_generator)"
   ]
  },
  {
   "cell_type": "code",
   "execution_count": 18,
   "metadata": {},
   "outputs": [],
   "source": [
    "tf.keras.models.save_model(modelconv,'skin_model.hdf5')"
   ]
  }
 ],
 "metadata": {
  "accelerator": "GPU",
  "colab": {
   "collapsed_sections": [],
   "name": "final_project_model_test_VL2_local.ipynb",
   "provenance": [
    {
     "file_id": "16PTa9KzEJBVaEz9fQLFdFaxyaIIT72KU",
     "timestamp": 1636810044717
    }
   ]
  },
  "kernelspec": {
   "display_name": "Python 3 (ipykernel)",
   "language": "python",
   "name": "python3"
  },
  "language_info": {
   "codemirror_mode": {
    "name": "ipython",
    "version": 3
   },
   "file_extension": ".py",
   "mimetype": "text/x-python",
   "name": "python",
   "nbconvert_exporter": "python",
   "pygments_lexer": "ipython3",
   "version": "3.9.7"
  }
 },
 "nbformat": 4,
 "nbformat_minor": 1
}
